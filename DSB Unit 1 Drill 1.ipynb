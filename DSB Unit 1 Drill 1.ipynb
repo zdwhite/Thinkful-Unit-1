{
 "cells": [
  {
   "cell_type": "markdown",
   "metadata": {},
   "source": [
    "# Question 1\n",
    "\n",
    "You work at an e-commerce company that sells three goods: widgets, doodads, and fizzbangs. The head of advertising asks you which they should feature in their new advertising campaign. You have data on individual visitors' sessions (activity on a website, pageviews, and purchases), as well as whether or not those users converted from an advertisement for that session. You also have the cost and price information for the goods.\n",
    "\n",
    "### Break Down\n",
    "\n",
    "What product should be featured in advertising campaign?\n",
    "    1. Organize user data set from previous advertising campaign.\n",
    "        A. Users converted to sales [int]\n",
    "            1. Type of product purchased [string]\n",
    "            2. Type of product purchased == Type of product advertised [bool]\n",
    "            3. Time to conversion [float]\n",
    "            4. Pages visited [dict:string]\n",
    "            5. Revenue of sale [float]\n",
    "            6. Revenue difference between sale item and advertised item [float]\n",
    "        B. Users Not converted to sales\n",
    "            1. Pages visited [dict:string]\n",
    "            2. Time per page [float]\n",
    "            3. Total session time [float]\n",
    "    3. How effective was the previous advertising campaign?\n",
    "        1. Of all products purchased during the last campaign was the total sales of the advertised product statistically different?\n",
    "            A. Do a Ttest of the sales last campaign compared to the sales of other products.\n",
    "    4. Classify statistical differences between users in group A vs group B.\n",
    "         A. Are users in group B looking at products or landing at the home page and leaving?\n",
    "             1. Decision tree prediction model/graph that shows probability of a user converting to a sale using page data\n",
    "         B. How are users in group A distributed? Are they directly visiting the product page or organically navigating from the homepage?\n",
    "             1. Can you predict the type of product group A is likely to buy based on their current page data?\n",
    "    5. What product is in most demand? \n",
    "        B.Is that product just out of reach price wise?\n",
    "Plan: From user data look at the product that is most viewed and has low conversion. This gives a sense of demand and price for users that is out of reach. Offer a sale on that product\n",
    "\n",
    "\n",
    "# Question 2\n",
    "\n",
    "You work at a web design company that offers to build websites for clients. Signups have slowed, and you are tasked with finding out why. The onboarding funnel has three steps: email and password signup, plan choice, and payment. On a user level you have information on what steps they have completed as well as timestamps for all of those events for the past 3 years. You also have information on marketing spend on a weekly level.\n",
    "\n",
    "1. Is the number of people landing on the initial sign up page declining?\n",
    "    A. Is there a correlation between marketing dollars spent per week and page lands?\n",
    "        1. If no fire the marketing department?\n",
    "2. If No, which step along are the majority users abandoning the sign up process?\n",
    "    A. Can we predeict when a user is about to abandon the process by looking at the time each step is taking in the process?\n",
    "    B. If it is during the e-mail password sign up?\n",
    "        1. Offer google or other form of password sign up options/ integration.\n",
    "    C. If it is plan choice possibly need to make a new plan option.\n",
    "    D. Payment abandoment, offering easier forms of payment options.\n",
    "    \n",
    "    \n",
    "# Question 3\n",
    "\n",
    "You work at a hotel website and currently the website ranks search results by price. For simplicity's sake, let's say it's a website for one city with 100 hotels. You are tasked with proposing a better ranking system. You have session information, price information for the hotels, and whether each hotel is currently available.\n",
    "\n",
    "1. Price clearly isn't the only way people rank their choice for goods and purchases.  Currently the website does the ranking of the hotels, but in hospitality user experience is key. Alowing users to rate their experience and satisfaction can help in informing new users of their expected experience. People book hotels for different reasons, business, vacation ect. Isolating the key factors for travel curating a ranking based on these factors would also be\n",
    "\n",
    "# Question 4\n",
    "\n",
    "You work at a social network, and the management is worried about churn (users stopping using the product). You are tasked with finding out if their churn is atypical. You have three years of data for users with an entry for every time they've logged in, including the timestamp and length of session.\n",
    "\n",
    "First, rank users against one another according to their engadement acording to their time spent engading for all three years. How does the user ranking distribution look, like a poison distribution or does it look normally distributed?\n",
    "\n",
    "Second, how does does this engadement change year over year? Are users tending to move towards low engadement or is it fluctuating?\n",
    "\n",
    "Third, given the total user population what are statistically relevant boundaries that can be defined as High normal and low engadement?\n",
    "\n",
    "Fourth, how often over the past three years has a user moved from a higher engadement category to a lower engadement.\n",
    "\n",
    "Lastly to determine if user churn is atypical do a t-test of user ranking engadement for every week of the last three years and rank each week according from highest to lowest by t statistic, this should yeild the weeks out of the last three years where users atypically churned, how many weeks out of the three years were there users that churned? \n"
   ]
  },
  {
   "cell_type": "markdown",
   "metadata": {},
   "source": [
    " "
   ]
  }
 ],
 "metadata": {
  "kernelspec": {
   "display_name": "Python 3",
   "language": "python",
   "name": "python3"
  },
  "language_info": {
   "codemirror_mode": {
    "name": "ipython",
    "version": 3
   },
   "file_extension": ".py",
   "mimetype": "text/x-python",
   "name": "python",
   "nbconvert_exporter": "python",
   "pygments_lexer": "ipython3",
   "version": "3.6.6"
  }
 },
 "nbformat": 4,
 "nbformat_minor": 2
}

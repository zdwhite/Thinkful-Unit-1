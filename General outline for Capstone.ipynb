{
 "cells": [
  {
   "cell_type": "markdown",
   "metadata": {},
   "source": [
    "Current Options\n",
    "\n",
    "1. Continue with Bias Hypothesis\n",
    "    . Introduce methodology behind Kaggle competition of toxicity\n",
    "        . Data Collection methodology\n",
    "            .https://arxiv.org/pdf/1610.08914.pdf\n",
    "            .https://meta.wikimedia.org/wiki/Research:Detox/Data_Release\n",
    "    . Introduce methodology of cognative bias for categorically defined data/survey data types and machine learning\n",
    "        . search  for **\n",
    "    . Report basic graphics of test / training data set\n",
    "        . *there really isn't much here of interest*\n",
    "    \n",
    "    . Hypothesis\n",
    "        1. ML Algo's trend and express the Baysian prior or cognative bias from the sample group of which a training and testing data sets are derived.\n",
    "    . Measured metric for cognative bias\n",
    "        . Measuring a \"Baysian prior\"\n",
    "            . https://psychology.stackexchange.com/questions/659/is-it-possible-to-quantify-cognitive-bias\n",
    "            . https://link.springer.com/article/10.3758%2FBF03194066\n",
    "        . Baysian Prio\n",
    "            .  A prior is a probability distribution over a set of distributions which expresses a belief in the probability that some distribution is the distribution generating the data.\n",
    "\n",
    "     .     "
   ]
  },
  {
   "cell_type": "markdown",
   "metadata": {},
   "source": [
    "# OTHER RESOURCES (sorta depretiated)\n",
    "### First Topic (online toxicity)\n",
    "\n",
    "The kaggle challenge below aims to sub-categorize toxic behaviour in online discourse.\n",
    "\n",
    "\"Platforms struggle to effectively facilitate conversations, leading many communities to limit or completely shut down user comments\"\n",
    "\n",
    "\n",
    "Sources\n",
    "1. https://www.kaggle.com/c/jigsaw-toxic-comment-classification-challenge\n",
    "2. https://www.kaggle.com/jagangupta/stop-the-s-toxic-comments-eda\n",
    "\n",
    "\n",
    "Hypothesis, machine learning algorythm's for detection and selection of data are subject to the same internal bias as the human brain. Furthermore categorically defined data by humans that ML algorythms are trained on compound said issue.\n",
    "\n",
    "Given the data set of wikipedia comments given to surveyors Machine learning algo's have been trained to detect toxcity with a high degree of acuracy. \n",
    "\n",
    "To further test this acuracy we must scrape a new data set and compare how this algorithm performs relative to \n",
    "\n",
    "Paper: \n",
    "\n",
    "    https://web.stanford.edu/class/cs224n/reports/6837517.pdf\n",
    "    https://www.nature.com/articles/s41598-018-25679-z\n",
    "    http://ir.cs.georgetown.edu/publications/downloads/ecml_post.pdf\n",
    "    \n",
    "    https://arxiv.org/pdf/1804.02969.pdf\n",
    "    https://datascience.stackexchange.com/questions/24511/why-should-the-data-be-shuffled-for-machine-learning-tasks\n",
    "    \n",
    "    https://www.researchgate.net/publication/314092612_Deceiving_Google's_Perspective_API_Built_for_Detecting_Toxic_Comments\n",
    "    \n",
    "    Toxicity in Online games (LoL)\n",
    "    https://www.researchgate.net/publication/267157088_Linguistic_Analysis_of_Toxic_Behavior_in_an_Online_Video_Game\n",
    "    \n",
    "Propose a new labeling or code system\n",
    "\n",
    "\n",
    "Order of operations,\n",
    "\n",
    "Import Data\n",
    "Describe the data:\n",
    "    Distribution of X type of comment:"
   ]
  },
  {
   "cell_type": "code",
   "execution_count": null,
   "metadata": {},
   "outputs": [],
   "source": []
  }
 ],
 "metadata": {
  "kernelspec": {
   "display_name": "Python 3",
   "language": "python",
   "name": "python3"
  },
  "language_info": {
   "codemirror_mode": {
    "name": "ipython",
    "version": 3
   },
   "file_extension": ".py",
   "mimetype": "text/x-python",
   "name": "python",
   "nbconvert_exporter": "python",
   "pygments_lexer": "ipython3",
   "version": "3.6.6"
  }
 },
 "nbformat": 4,
 "nbformat_minor": 2
}

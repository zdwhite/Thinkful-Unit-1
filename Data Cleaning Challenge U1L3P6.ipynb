{
 "cells": [
  {
   "cell_type": "code",
   "execution_count": 202,
   "metadata": {},
   "outputs": [],
   "source": [
    "import pandas as pd\n",
    "import matplotlib.pyplot as plt\n",
    "import numpy as np\n",
    "import os\n",
    "import seaborn as sns\n",
    "import scipy"
   ]
  },
  {
   "cell_type": "code",
   "execution_count": 203,
   "metadata": {},
   "outputs": [
    {
     "name": "stdout",
     "output_type": "stream",
     "text": [
      "C:\\Users\\Zak White\\AppData\\Local\\Programs\\Python\\Python36\\Thinkful Datasets\n"
     ]
    }
   ],
   "source": [
    "%cd C:\\Users\\Zak White\\AppData\\Local\\Programs\\Python\\Python36\\Thinkful Datasets\n",
    "    \n",
    "df = pd.read_csv('WELLCOME_APCspend2013_forThinkful.csv', encoding = \"ISO-8859-1\")\n",
    "#df = pd.read_csv('WELLCOME_APCspend2013_forThinkful.csv')\n"
   ]
  },
  {
   "cell_type": "code",
   "execution_count": 236,
   "metadata": {},
   "outputs": [
    {
     "name": "stdout",
     "output_type": "stream",
     "text": [
      "<class 'pandas.core.frame.DataFrame'>\n",
      "RangeIndex: 2127 entries, 0 to 2126\n",
      "Data columns (total 5 columns):\n",
      "PMID/PMCID                                             1928 non-null object\n",
      "Publisher                                              2127 non-null object\n",
      "Journal title                                          2126 non-null object\n",
      "Article title                                          2127 non-null object\n",
      "COST (£) charged to Wellcome (inc VAT when charged)    2127 non-null object\n",
      "dtypes: object(5)\n",
      "memory usage: 83.2+ KB\n"
     ]
    }
   ],
   "source": [
    "df.info()\n",
    "# Looking at the dataframe info we can see many rows missing their PMID\n",
    "# and another row missing their Journal title.\n",
    "# The column titles are also messy\n",
    "# The most glaring problem is there is no consistent data type for any column"
   ]
  },
  {
   "cell_type": "code",
   "execution_count": 240,
   "metadata": {},
   "outputs": [
    {
     "data": {
      "text/plain": [
       "Index(['ID', 'Publisher', 'Journal_title', 'Article_title', 'COST(£)'], dtype='object')"
      ]
     },
     "execution_count": 240,
     "metadata": {},
     "output_type": "execute_result"
    }
   ],
   "source": [
    "df.columns = ['PMID/PMCID', 'Publisher', 'Journal_title', 'Article_title',\n",
    "       'COST(£)']\n",
    "df.columns"
   ]
  },
  {
   "cell_type": "code",
   "execution_count": 241,
   "metadata": {},
   "outputs": [
    {
     "data": {
      "text/plain": [
       "ID               1880\n",
       "Publisher         299\n",
       "Journal_title     984\n",
       "Article_title    2126\n",
       "COST(£)          1402\n",
       "dtype: int64"
      ]
     },
     "execution_count": 241,
     "metadata": {},
     "output_type": "execute_result"
    }
   ],
   "source": [
    "df.nunique()\n",
    "#Looking at the number of uniques we can see a possible duplicate Article Title\n",
    "#Possibly multiple issues with the PMID/PMCID column\n",
    "# It appears there are plenty of articles that are priced similarly which is not an issue."
   ]
  },
  {
   "cell_type": "code",
   "execution_count": 230,
   "metadata": {
    "scrolled": true
   },
   "outputs": [],
   "source": [
    "# NOT NEEDED FOR ASSIGNMENT, BUT GOOD PRACTICE!!!\n",
    "# Clean IDs\n",
    "    # PMID = integers of varrying length\n",
    "    # PMCIDs = PMC+integer\n",
    "    # remove any row with out a \"cleanable\" ID\n",
    "df['PMID/PMCID'].unique()\n",
    "\n",
    "def condense(x):\n",
    "    if len(x)<=8 and len(x)>6:\n",
    "        return x\n",
    "    else:\n",
    "        return \"NaN\"\n",
    "\n",
    "#Currently clean_ID splits the ID column into a table of elements\n",
    "    #elements are deliniated from spaces\n",
    "    #then filtered for digits/ID that are >6 in length, but no more than 8\n",
    "def clean_ID(x):\n",
    "    x= pd.Series(str(x).strip().split(\" \"))\n",
    "    ##x = list(filter(lambda x: str(x).isdigit(),x))\n",
    "    ##x = x.apply(lambda x: ''.join(list(filter(str.isdigit, str(x)))))\n",
    "    x = x.apply(lambda x: condense(''.join(list(filter(str.isdigit, str(x))))))\n",
    "    return x\n",
    "ID_table = df['PMID/PMCID'].apply(clean_ID)\n",
    "\n",
    "#\n",
    "#condense this table into 1 \n",
    "#len(ID_table[0][1])\n",
    "#ID_table"
   ]
  },
  {
   "cell_type": "code",
   "execution_count": 231,
   "metadata": {},
   "outputs": [],
   "source": [
    "import currency_converter as conv"
   ]
  },
  {
   "cell_type": "code",
   "execution_count": 232,
   "metadata": {},
   "outputs": [],
   "source": [
    "#Clean price data\n",
    "    # Eliminate currency unit notation\n",
    "    # convert to numeric\n",
    "    # If USD\n",
    "        # Convert to (£)\n",
    "    # Elimi\n",
    "# look for \"£\" & \"$\" sign on left or right\n",
    "    #if \"$\":\n",
    "        # drop\n",
    "        #convert to \"£\"\n",
    "    #else\n",
    "        # drop \"£\"\n",
    "        \n",
    " \n",
    " def convert(x):\n",
    "    x= pd.Series(str(x).strip()\n",
    "    x=x.apply()\n",
    "    \n",
    "#print(*df['COST(£)'].unique(), sep='\\n')"
   ]
  },
  {
   "cell_type": "code",
   "execution_count": null,
   "metadata": {},
   "outputs": [],
   "source": [
    "# Dirty list\n",
    "money = pd.Series([400, 111, '$20', 57, 'Lots'])\n",
    "\n",
    "# Here's a lambda function that mirrors the is_a_digit function above.\n",
    "# Read this print statement carefully and compare to the previous one.\n",
    "print(money.apply(lambda x: str(x).isdigit()))"
   ]
  }
 ],
 "metadata": {
  "kernelspec": {
   "display_name": "Python 3",
   "language": "python",
   "name": "python3"
  },
  "language_info": {
   "codemirror_mode": {
    "name": "ipython",
    "version": 3
   },
   "file_extension": ".py",
   "mimetype": "text/x-python",
   "name": "python",
   "nbconvert_exporter": "python",
   "pygments_lexer": "ipython3",
   "version": "3.6.6"
  }
 },
 "nbformat": 4,
 "nbformat_minor": 2
}

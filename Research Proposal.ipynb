{
 "cells": [
  {
   "cell_type": "markdown",
   "metadata": {},
   "source": [
    "### The problem\n",
    "\n",
    "Students are suspected of cheating on exams.\n",
    "\n",
    "Why cheat? Incentives to get a good grade vs time it takes to learn. Cheating offers a time value trade off at a risk.\n",
    "\n",
    "Can the risk be so high that one won't cheat and studying is the only viable option? Or is controlling the test environment the only option.\n",
    "\n",
    "### The potential solution\n",
    "\n",
    "Offer students two options for examination, and a risk. \n",
    "\n",
    "Option A. An easier exam with multiple versions under strict environmental testing circumstances\n",
    "\n",
    "Option B. A more difficult exam that is take home, but the exam is more difficult.\n",
    "\n",
    "Students must choose their option in some advance.\n",
    "Students caught or suspected of cheating automatically fail the course.\n",
    "\n",
    "### The method of testing the solution\n",
    "\n",
    "Cheating on an exam artificially skews a distribution of scores higher than normal. Comparing the two cohorts together the distribution of the easier exam should skew towards an overal higher score, and the more difficult exam should skew towards a lower score.\n",
    "\n",
    "Why is this useful, my hypothesis is that a student that is likely to cheat will choose option B and underperform. despite umlimited resources. A more difficult exam designed around known resources and stressing conceptual knowledge will expose the knowledge gap aquired from studying the base material.\n"
   ]
  }
 ],
 "metadata": {
  "kernelspec": {
   "display_name": "Python 3",
   "language": "python",
   "name": "python3"
  },
  "language_info": {
   "codemirror_mode": {
    "name": "ipython",
    "version": 3
   },
   "file_extension": ".py",
   "mimetype": "text/x-python",
   "name": "python",
   "nbconvert_exporter": "python",
   "pygments_lexer": "ipython3",
   "version": "3.6.6"
  }
 },
 "nbformat": 4,
 "nbformat_minor": 2
}
